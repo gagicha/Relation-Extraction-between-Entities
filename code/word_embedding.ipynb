{
 "cells": [
  {
   "cell_type": "code",
   "execution_count": 1,
   "metadata": {},
   "outputs": [],
   "source": [
    "import pandas as pd\n",
    "from gensim.models import Word2Vec"
   ]
  },
  {
   "cell_type": "code",
   "execution_count": 2,
   "metadata": {},
   "outputs": [],
   "source": [
    "train_df= pd.read_csv('train.csv')\n",
    "test_df= pd.read_csv('test.csv')"
   ]
  },
  {
   "cell_type": "markdown",
   "metadata": {},
   "source": [
    "# train word embeddings on train and test sentences"
   ]
  },
  {
   "cell_type": "code",
   "execution_count": 3,
   "metadata": {},
   "outputs": [],
   "source": [
    "def get_words(df):\n",
    "    return [[words for words in sen.split()] for sen in df.sen_without_entity]\n",
    "sentences= get_words(train_df)+ get_words(test_df)"
   ]
  },
  {
   "cell_type": "code",
   "execution_count": 4,
   "metadata": {},
   "outputs": [
    {
     "data": {
      "text/plain": [
       "20586"
      ]
     },
     "execution_count": 4,
     "metadata": {},
     "output_type": "execute_result"
    }
   ],
   "source": [
    "len(sentences)"
   ]
  },
  {
   "cell_type": "code",
   "execution_count": 5,
   "metadata": {},
   "outputs": [],
   "source": [
    "# train model\n",
    "model = Word2Vec(sentences, min_count=0)"
   ]
  },
  {
   "cell_type": "code",
   "execution_count": 6,
   "metadata": {},
   "outputs": [
    {
     "name": "stderr",
     "output_type": "stream",
     "text": [
      "C:\\Users\\Gunjan\\Anaconda3\\envs\\nlp\\lib\\site-packages\\ipykernel_launcher.py:1: DeprecationWarning: Call to deprecated `__getitem__` (Method will be removed in 4.0.0, use self.wv.__getitem__() instead).\n",
      "  \"\"\"Entry point for launching an IPython kernel.\n"
     ]
    },
    {
     "data": {
      "text/plain": [
       "array([ 0.0191662 , -0.02912245, -0.02496345, -0.00576234,  0.01213258,\n",
       "        0.00731482,  0.00619005,  0.00659007,  0.00973198, -0.01644381,\n",
       "        0.01194979,  0.02075682,  0.00058465,  0.00271278, -0.00696159,\n",
       "       -0.00187549, -0.01547421, -0.0033782 , -0.02110062, -0.00563608,\n",
       "       -0.01456546,  0.02370908, -0.00571217, -0.01398941, -0.00854432,\n",
       "       -0.00398806,  0.0022042 , -0.0024639 ,  0.00899662, -0.00508246,\n",
       "       -0.00581539, -0.00983579, -0.01719416,  0.01874355,  0.03427286,\n",
       "       -0.02485631,  0.01641215,  0.00072205,  0.02443156, -0.00823172,\n",
       "        0.00162093,  0.03768258, -0.02304802, -0.00225284,  0.03578565,\n",
       "       -0.01879494, -0.00259572,  0.00929846,  0.00736019,  0.02035225,\n",
       "       -0.00253827,  0.00373134,  0.02535666, -0.03764243, -0.00328689,\n",
       "        0.01813371,  0.04097312,  0.02294373,  0.00291239,  0.01017861,\n",
       "       -0.01626052,  0.01299544, -0.01115865, -0.02778121, -0.00087658,\n",
       "        0.00763334,  0.00623924,  0.013882  , -0.01058716,  0.01032073,\n",
       "       -0.03886907,  0.01582639, -0.00775862,  0.00194706, -0.03588446,\n",
       "        0.00233328,  0.02011564,  0.00422986, -0.00577441, -0.00089839,\n",
       "        0.0027263 , -0.00684578, -0.03181411,  0.03172034, -0.00214988,\n",
       "       -0.01471528,  0.02721558,  0.03555759,  0.00313257,  0.00255912,\n",
       "       -0.00545485, -0.02364072, -0.03105394,  0.0251747 , -0.01174185,\n",
       "       -0.00926406, -0.02515891, -0.00912912,  0.01636558, -0.01638008],\n",
       "      dtype=float32)"
      ]
     },
     "execution_count": 6,
     "metadata": {},
     "output_type": "execute_result"
    }
   ],
   "source": [
    "model['Radiohead']"
   ]
  },
  {
   "cell_type": "code",
   "execution_count": 7,
   "metadata": {},
   "outputs": [
    {
     "name": "stdout",
     "output_type": "stream",
     "text": [
      "Word2Vec(vocab=48656, size=100, alpha=0.025)\n"
     ]
    }
   ],
   "source": [
    "print(model)"
   ]
  },
  {
   "cell_type": "code",
   "execution_count": 8,
   "metadata": {},
   "outputs": [],
   "source": [
    "words = list(model.wv.vocab)"
   ]
  },
  {
   "cell_type": "code",
   "execution_count": 9,
   "metadata": {},
   "outputs": [],
   "source": [
    "model.save('word_model.bin')"
   ]
  },
  {
   "cell_type": "code",
   "execution_count": 10,
   "metadata": {},
   "outputs": [],
   "source": [
    "new_model = Word2Vec.load('word_model.bin')"
   ]
  }
 ],
 "metadata": {
  "kernelspec": {
   "display_name": "Python 3",
   "language": "python",
   "name": "python3"
  },
  "language_info": {
   "codemirror_mode": {
    "name": "ipython",
    "version": 3
   },
   "file_extension": ".py",
   "mimetype": "text/x-python",
   "name": "python",
   "nbconvert_exporter": "python",
   "pygments_lexer": "ipython3",
   "version": "3.7.9"
  }
 },
 "nbformat": 4,
 "nbformat_minor": 4
}
